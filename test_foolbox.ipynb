{
 "cells": [
  {
   "cell_type": "code",
   "execution_count": 1,
   "metadata": {
    "collapsed": true
   },
   "outputs": [],
   "source": [
    "from numpy import linalg as LA\n",
    "import torch, foolbox, random\n",
    "import numpy as np\n",
    "from models import MNIST, CIFAR10, IMAGENET, SimpleMNIST, load_mnist_data, load_cifar10_data, imagenettest, load_model\n",
    "import os\n",
    "os.environ['CUDA_VISIBLE_DEVICES'] = '5'"
   ]
  },
  {
   "cell_type": "code",
   "execution_count": 2,
   "metadata": {},
   "outputs": [
    {
     "name": "stdout",
     "output_type": "stream",
     "text": [
      "Files already downloaded and verified\n",
      "Files already downloaded and verified\n"
     ]
    }
   ],
   "source": [
    "train_loader, test_loader, train_dataset, test_dataset = load_cifar10_data()"
   ]
  },
  {
   "cell_type": "code",
   "execution_count": 3,
   "metadata": {
    "collapsed": true
   },
   "outputs": [],
   "source": [
    "net = CIFAR10()\n",
    "net.cuda()\n",
    "net = torch.nn.DataParallel(net, device_ids=[0])\n",
    "load_model(net, 'models/cifar10_gpu.pt')\n",
    "net.eval()\n",
    "model = net.module if torch.cuda.is_available() else net"
   ]
  },
  {
   "cell_type": "code",
   "execution_count": 4,
   "metadata": {
    "collapsed": true
   },
   "outputs": [],
   "source": [
    "fmodel = foolbox.models.PyTorchModel(model, bounds=[0,1], num_classes=10)\n",
    "attack = foolbox.attacks.BoundaryAttack(fmodel)"
   ]
  },
  {
   "cell_type": "code",
   "execution_count": null,
   "metadata": {
    "scrolled": true
   },
   "outputs": [
    {
     "name": "stdout",
     "output_type": "stream",
     "text": [
      "6411\n",
      "run with verbose=True to see details\n",
      "Step 0: 3.01750e-02, stepsizes = 1.0e-02/1.0e-02: \n",
      "Step 1000: 3.32122e-05, stepsizes = 3.4e-02/5.9e-04:  (took 0.01120 seconds)\n",
      "Step 2000: 1.70608e-05, stepsizes = 1.5e-02/1.7e-04: d. reduced by 0.03% (5.9198e-09) (took 0.01564 seconds)\n",
      "Step 3000: 1.36708e-05, stepsizes = 1.0e-02/1.2e-04:  (took 0.01070 seconds)\n"
     ]
    }
   ],
   "source": [
    "random.seed(0)\n",
    "avg_dis = 0\n",
    "avg_calls = 0\n",
    "num_imgs = 1\n",
    "for _ in range(1):\n",
    "    idx = random.randint(100, len(test_dataset)-1)\n",
    "    print(idx)\n",
    "    image, label = test_dataset[idx]\n",
    "    image = image.numpy()\n",
    "    targets = list(range(10))\n",
    "    targets.pop(label)\n",
    "    target = random.choice(targets)\n",
    "#for i in range(50):101\n",
    "#    img, label2 = test_dataset[i]\n",
    "#    if label2 == 6:\n",
    "#        target = img.numpy()\n",
    "    adv = attack(image,label,iterations=5000, verbose=False, unpack=False, log_every_n_steps=1000)\n",
    "    avg_dis += LA.norm(adv.image-image)\n",
    "    avg_calls += adv._total_prediction_calls\n",
    "\n",
    "print(avg_dis/num_imgs, avg_calls/num_imgs)\n"
   ]
  },
  {
   "cell_type": "code",
   "execution_count": 8,
   "metadata": {
    "scrolled": false
   },
   "outputs": [
    {
     "name": "stdout",
     "output_type": "stream",
     "text": [
      "Neither starting_point nor initialization_attack given. Falling back to BlendedUniformNoiseAttack for initialization.\n",
      "Initial spherical_step = 0.01, source_step = 0.01\n",
      "Using 1 threads to create random numbers\n",
      "Step 0: 8.13248e-03, stepsizes = 1.0e-02/1.0e-02: \n",
      "Step 1: 8.13248e-03, stepsizes = 1.0e-02/1.0e-02:  (took 0.11750 seconds)\n",
      "Step 2: 8.13248e-03, stepsizes = 1.0e-02/1.0e-02:  (took 0.10934 seconds)\n",
      "Step 3: 8.13248e-03, stepsizes = 1.0e-02/1.0e-02:  (took 0.11061 seconds)\n",
      "Step 4: 8.13248e-03, stepsizes = 1.0e-02/1.0e-02:  (took 0.11045 seconds)\n",
      "Step 5: 8.13248e-03, stepsizes = 1.0e-02/1.0e-02:  (took 0.10956 seconds)\n",
      "Step 6: 8.13248e-03, stepsizes = 1.0e-02/1.0e-02:  (took 0.11135 seconds)\n",
      "Step 7: 8.13248e-03, stepsizes = 1.0e-02/1.0e-02:  (took 0.11029 seconds)\n",
      "Step 8: 8.13248e-03, stepsizes = 1.0e-02/1.0e-02:  (took 0.11083 seconds)\n",
      "Step 9: 8.13248e-03, stepsizes = 1.0e-02/1.0e-02:  (took 0.11176 seconds)\n",
      "Step 10: 7.97064e-03, stepsizes = 1.0e-02/1.0e-02: d. reduced by 1.99% (1.6184e-04) (took 0.06326 seconds)\n",
      "Step 11: 7.97064e-03, stepsizes = 1.0e-02/1.0e-02:  (took 0.10917 seconds)\n",
      "Step 12: 7.97064e-03, stepsizes = 1.0e-02/1.0e-02:  (took 0.10954 seconds)\n",
      "Step 13: 7.81202e-03, stepsizes = 1.0e-02/1.0e-02: d. reduced by 1.99% (1.5862e-04) (took 0.02776 seconds)\n",
      "Step 14: 7.81202e-03, stepsizes = 1.0e-02/1.0e-02:  (took 0.11084 seconds)\n",
      "Step 15: 7.81202e-03, stepsizes = 1.0e-02/1.0e-02:  (took 0.10813 seconds)\n",
      "Step 16: 7.81202e-03, stepsizes = 1.0e-02/1.0e-02:  (took 0.10983 seconds)\n",
      "Step 17: 7.81202e-03, stepsizes = 1.0e-02/1.0e-02:  (took 0.10832 seconds)\n",
      "Step 18: 7.81202e-03, stepsizes = 1.0e-02/1.0e-02:  (took 0.10683 seconds)\n",
      "Step 19: 7.81202e-03, stepsizes = 1.0e-02/1.0e-02:  (took 0.11229 seconds)\n",
      "Step 20: 7.81202e-03, stepsizes = 1.0e-02/1.0e-02:  (took 0.17128 seconds)\n",
      "Step 21: 7.81202e-03, stepsizes = 1.0e-02/1.0e-02:  (took 0.10994 seconds)\n",
      "Step 22: 7.81202e-03, stepsizes = 1.0e-02/1.0e-02:  (took 0.10587 seconds)\n",
      "Step 23: 7.81202e-03, stepsizes = 1.0e-02/1.0e-02:  (took 0.11211 seconds)\n",
      "Step 24: 7.81202e-03, stepsizes = 1.0e-02/1.0e-02:  (took 0.10962 seconds)\n",
      "Step 25: 7.81202e-03, stepsizes = 1.0e-02/1.0e-02:  (took 0.10865 seconds)\n",
      "Step 26: 7.81202e-03, stepsizes = 1.0e-02/1.0e-02:  (took 0.11081 seconds)\n",
      "Step 27: 7.81202e-03, stepsizes = 1.0e-02/1.0e-02:  (took 0.11087 seconds)\n",
      "Step 28: 7.81202e-03, stepsizes = 1.0e-02/1.0e-02:  (took 0.10792 seconds)\n",
      "Step 29: 7.81202e-03, stepsizes = 1.0e-02/1.0e-02:  (took 0.11012 seconds)\n",
      "  Success rate too low, decreasing source step:  0.62 ( 58), 0.03 (30)\n",
      "Step 30: 7.65656e-03, stepsizes = 1.0e-02/6.7e-03: d. reduced by 1.99% (1.5546e-04) (took 0.17954 seconds)\n",
      "Step 31: 7.55482e-03, stepsizes = 1.0e-02/6.7e-03: d. reduced by 1.33% (1.0175e-04) (took 0.01004 seconds)\n",
      "Step 32: 7.45442e-03, stepsizes = 1.0e-02/6.7e-03: d. reduced by 1.33% (1.0040e-04) (took 0.02522 seconds)\n",
      "Step 33: 7.35536e-03, stepsizes = 1.0e-02/6.7e-03: d. reduced by 1.33% (9.9061e-05) (took 0.07280 seconds)\n",
      "Step 34: 7.25762e-03, stepsizes = 1.0e-02/6.7e-03: d. reduced by 1.33% (9.7744e-05) (took 0.05253 seconds)\n",
      "Step 35: 7.16117e-03, stepsizes = 1.0e-02/6.7e-03: d. reduced by 1.33% (9.6446e-05) (took 0.07192 seconds)\n",
      "Step 36: 7.16117e-03, stepsizes = 1.0e-02/6.7e-03:  (took 0.11183 seconds)\n",
      "Step 37: 7.06601e-03, stepsizes = 1.0e-02/6.7e-03: d. reduced by 1.33% (9.5164e-05) (took 0.10768 seconds)\n",
      "Step 38: 6.97211e-03, stepsizes = 1.0e-02/6.7e-03: d. reduced by 1.33% (9.3899e-05) (took 0.10856 seconds)\n",
      "Step 39: 6.97211e-03, stepsizes = 1.0e-02/6.7e-03:  (took 0.11173 seconds)\n",
      "Step 40: 6.97211e-03, stepsizes = 1.0e-02/6.7e-03:  (took 0.16609 seconds)\n",
      "Step 41: 6.87946e-03, stepsizes = 1.0e-02/6.7e-03: d. reduced by 1.33% (9.2651e-05) (took 0.01084 seconds)\n",
      "Step 42: 6.78804e-03, stepsizes = 1.0e-02/6.7e-03: d. reduced by 1.33% (9.1420e-05) (took 0.07070 seconds)\n",
      "Step 43: 6.69783e-03, stepsizes = 1.0e-02/6.7e-03: d. reduced by 1.33% (9.0205e-05) (took 0.03220 seconds)\n",
      "Step 44: 6.69783e-03, stepsizes = 1.0e-02/6.7e-03:  (took 0.11099 seconds)\n",
      "Step 45: 6.60882e-03, stepsizes = 1.0e-02/6.7e-03: d. reduced by 1.33% (8.9007e-05) (took 0.08457 seconds)\n",
      "Step 46: 6.52100e-03, stepsizes = 1.0e-02/6.7e-03: d. reduced by 1.33% (8.7824e-05) (took 0.03999 seconds)\n",
      "Step 47: 6.43434e-03, stepsizes = 1.0e-02/6.7e-03: d. reduced by 1.33% (8.6657e-05) (took 0.01308 seconds)\n",
      "Step 48: 6.34884e-03, stepsizes = 1.0e-02/6.7e-03: d. reduced by 1.33% (8.5505e-05) (took 0.08226 seconds)\n",
      "Step 49: 6.34884e-03, stepsizes = 1.0e-02/6.7e-03:  (took 0.11226 seconds)\n",
      "  Boundary too linear, increasing steps:     0.59 (100), 0.00 (27)\n",
      "Step 50: 6.34884e-03, stepsizes = 1.5e-02/1.0e-02:  (took 0.17745 seconds)\n",
      "Step 51: 6.34884e-03, stepsizes = 1.5e-02/1.0e-02:  (took 0.11039 seconds)\n",
      "Step 52: 6.34884e-03, stepsizes = 1.5e-02/1.0e-02:  (took 0.10621 seconds)\n",
      "Step 53: 6.34884e-03, stepsizes = 1.5e-02/1.0e-02:  (took 0.11329 seconds)\n",
      "Step 54: 6.34884e-03, stepsizes = 1.5e-02/1.0e-02:  (took 0.10935 seconds)\n",
      "Step 55: 6.34884e-03, stepsizes = 1.5e-02/1.0e-02:  (took 0.10749 seconds)\n",
      "Step 56: 6.34884e-03, stepsizes = 1.5e-02/1.0e-02:  (took 0.11124 seconds)\n",
      "Step 57: 6.34884e-03, stepsizes = 1.5e-02/1.0e-02:  (took 0.11230 seconds)\n",
      "Step 58: 6.22250e-03, stepsizes = 1.5e-02/1.0e-02: d. reduced by 1.99% (1.2634e-04) (took 0.06341 seconds)\n",
      "Step 59: 6.22250e-03, stepsizes = 1.5e-02/1.0e-02:  (took 0.11165 seconds)\n",
      "  Success rate too low, decreasing source step:  0.40 ( 25), 0.00 (30)\n",
      "Step 60: 6.22250e-03, stepsizes = 1.5e-02/6.7e-03:  (took 0.15621 seconds)\n",
      "Step 61: 6.13981e-03, stepsizes = 1.5e-02/6.7e-03: d. reduced by 1.33% (8.2690e-05) (took 0.03143 seconds)\n",
      "Step 62: 6.05821e-03, stepsizes = 1.5e-02/6.7e-03: d. reduced by 1.33% (8.1591e-05) (took 0.09121 seconds)\n",
      "Step 63: 5.97771e-03, stepsizes = 1.5e-02/6.7e-03: d. reduced by 1.33% (8.0507e-05) (took 0.00607 seconds)\n",
      "Step 64: 5.89827e-03, stepsizes = 1.5e-02/6.7e-03: d. reduced by 1.33% (7.9437e-05) (took 0.02710 seconds)\n",
      "Step 65: 5.81989e-03, stepsizes = 1.5e-02/6.7e-03: d. reduced by 1.33% (7.8381e-05) (took 0.05255 seconds)\n",
      "Step 66: 5.74255e-03, stepsizes = 1.5e-02/6.7e-03: d. reduced by 1.33% (7.7340e-05) (took 0.06461 seconds)\n",
      "Step 67: 5.66624e-03, stepsizes = 1.5e-02/6.7e-03: d. reduced by 1.33% (7.6312e-05) (took 0.10505 seconds)\n",
      "Step 68: 5.59094e-03, stepsizes = 1.5e-02/6.7e-03: d. reduced by 1.33% (7.5298e-05) (took 0.01981 seconds)\n",
      "Step 69: 5.59094e-03, stepsizes = 1.5e-02/6.7e-03:  (took 0.10935 seconds)\n",
      "Step 70: 5.59094e-03, stepsizes = 1.5e-02/6.7e-03:  (took 0.18900 seconds)\n",
      "Step 71: 5.51664e-03, stepsizes = 1.5e-02/6.7e-03: d. reduced by 1.33% (7.4297e-05) (took 0.00556 seconds)\n",
      "Step 72: 5.51664e-03, stepsizes = 1.5e-02/6.7e-03:  (took 0.11074 seconds)\n",
      "Step 73: 5.51664e-03, stepsizes = 1.5e-02/6.7e-03:  (took 0.10632 seconds)\n",
      "Step 74: 5.44333e-03, stepsizes = 1.5e-02/6.7e-03: d. reduced by 1.33% (7.3310e-05) (took 0.02711 seconds)\n",
      "Step 75: 5.37100e-03, stepsizes = 1.5e-02/6.7e-03: d. reduced by 1.33% (7.2336e-05) (took 0.03826 seconds)\n",
      "Step 76: 5.29962e-03, stepsizes = 1.5e-02/6.7e-03: d. reduced by 1.33% (7.1375e-05) (took 0.03271 seconds)\n",
      "Step 77: 5.22920e-03, stepsizes = 1.5e-02/6.7e-03: d. reduced by 1.33% (7.0426e-05) (took 0.01427 seconds)\n"
     ]
    },
    {
     "ename": "KeyboardInterrupt",
     "evalue": "",
     "output_type": "error",
     "traceback": [
      "\u001b[0;31m---------------------------------------------------------------------------\u001b[0m",
      "\u001b[0;31mKeyboardInterrupt\u001b[0m                         Traceback (most recent call last)",
      "\u001b[0;32m<ipython-input-8-8933ecbcbb06>\u001b[0m in \u001b[0;36m<module>\u001b[0;34m()\u001b[0m\n\u001b[0;32m----> 1\u001b[0;31m \u001b[0madv\u001b[0m \u001b[0;34m=\u001b[0m \u001b[0mattack\u001b[0m\u001b[0;34m(\u001b[0m\u001b[0mimage\u001b[0m\u001b[0;34m,\u001b[0m\u001b[0mlabel\u001b[0m\u001b[0;34m,\u001b[0m\u001b[0miterations\u001b[0m\u001b[0;34m=\u001b[0m\u001b[0;36m5000\u001b[0m\u001b[0;34m,\u001b[0m \u001b[0mverbose\u001b[0m\u001b[0;34m=\u001b[0m\u001b[0;32mTrue\u001b[0m\u001b[0;34m,\u001b[0m \u001b[0munpack\u001b[0m\u001b[0;34m=\u001b[0m\u001b[0;32mFalse\u001b[0m\u001b[0;34m,\u001b[0m \u001b[0mthreaded_gen\u001b[0m\u001b[0;34m=\u001b[0m\u001b[0;36m1\u001b[0m\u001b[0;34m,\u001b[0m \u001b[0mthreaded_rnd\u001b[0m\u001b[0;34m=\u001b[0m\u001b[0;36m1\u001b[0m\u001b[0;34m)\u001b[0m\u001b[0;34m\u001b[0m\u001b[0m\n\u001b[0m",
      "\u001b[0;32m~/blackbox-attack/foolbox/attacks/base.py\u001b[0m in \u001b[0;36mwrapper\u001b[0;34m(self, input_or_adv, label, unpack, **kwargs)\u001b[0m\n\u001b[1;32m     95\u001b[0m                           ' has a distance of 0.')\n\u001b[1;32m     96\u001b[0m         \u001b[0;32melse\u001b[0m\u001b[0;34m:\u001b[0m\u001b[0;34m\u001b[0m\u001b[0m\n\u001b[0;32m---> 97\u001b[0;31m             \u001b[0m_\u001b[0m \u001b[0;34m=\u001b[0m \u001b[0mcall_fn\u001b[0m\u001b[0;34m(\u001b[0m\u001b[0mself\u001b[0m\u001b[0;34m,\u001b[0m \u001b[0ma\u001b[0m\u001b[0;34m,\u001b[0m \u001b[0mlabel\u001b[0m\u001b[0;34m=\u001b[0m\u001b[0;32mNone\u001b[0m\u001b[0;34m,\u001b[0m \u001b[0munpack\u001b[0m\u001b[0;34m=\u001b[0m\u001b[0;32mNone\u001b[0m\u001b[0;34m,\u001b[0m \u001b[0;34m**\u001b[0m\u001b[0mkwargs\u001b[0m\u001b[0;34m)\u001b[0m\u001b[0;34m\u001b[0m\u001b[0m\n\u001b[0m\u001b[1;32m     98\u001b[0m             \u001b[0;32massert\u001b[0m \u001b[0m_\u001b[0m \u001b[0;32mis\u001b[0m \u001b[0;32mNone\u001b[0m\u001b[0;34m,\u001b[0m \u001b[0;34m'decorated __call__ method must return None'\u001b[0m\u001b[0;34m\u001b[0m\u001b[0m\n\u001b[1;32m     99\u001b[0m \u001b[0;34m\u001b[0m\u001b[0m\n",
      "\u001b[0;32m~/blackbox-attack/foolbox/attacks/boundary_attack.py\u001b[0m in \u001b[0;36m__call__\u001b[0;34m(self, input_or_adv, label, unpack, iterations, max_directions, starting_point, initialization_attack, log_every_n_steps, spherical_step, source_step, step_adaptation, batch_size, tune_batch_size, threaded_rnd, threaded_gen, alternative_generator, internal_dtype, verbose)\u001b[0m\n\u001b[1;32m    157\u001b[0m             \u001b[0mtune_batch_size\u001b[0m\u001b[0;34m=\u001b[0m\u001b[0mtune_batch_size\u001b[0m\u001b[0;34m,\u001b[0m\u001b[0;34m\u001b[0m\u001b[0m\n\u001b[1;32m    158\u001b[0m             \u001b[0mthreaded_rnd\u001b[0m\u001b[0;34m=\u001b[0m\u001b[0mthreaded_rnd\u001b[0m\u001b[0;34m,\u001b[0m\u001b[0;34m\u001b[0m\u001b[0m\n\u001b[0;32m--> 159\u001b[0;31m             threaded_gen=threaded_gen)\n\u001b[0m\u001b[1;32m    160\u001b[0m \u001b[0;34m\u001b[0m\u001b[0m\n\u001b[1;32m    161\u001b[0m     def _apply_outer(\n",
      "\u001b[0;32m~/blackbox-attack/foolbox/attacks/boundary_attack.py\u001b[0m in \u001b[0;36m_apply_outer\u001b[0;34m(self, *args, **kwargs)\u001b[0m\n\u001b[1;32m    175\u001b[0m             \u001b[0mn\u001b[0m \u001b[0;34m=\u001b[0m \u001b[0mkwargs\u001b[0m\u001b[0;34m[\u001b[0m\u001b[0;34m'threaded_gen'\u001b[0m\u001b[0;34m]\u001b[0m\u001b[0;34m\u001b[0m\u001b[0m\n\u001b[1;32m    176\u001b[0m             \u001b[0;32mwith\u001b[0m \u001b[0mThreadPoolExecutor\u001b[0m\u001b[0;34m(\u001b[0m\u001b[0mmax_workers\u001b[0m\u001b[0;34m=\u001b[0m\u001b[0mn\u001b[0m\u001b[0;34m)\u001b[0m \u001b[0;32mas\u001b[0m \u001b[0mpool\u001b[0m\u001b[0;34m:\u001b[0m\u001b[0;34m\u001b[0m\u001b[0m\n\u001b[0;32m--> 177\u001b[0;31m                 \u001b[0;32mreturn\u001b[0m \u001b[0mself\u001b[0m\u001b[0;34m.\u001b[0m\u001b[0m_apply_inner\u001b[0m\u001b[0;34m(\u001b[0m\u001b[0mpool\u001b[0m\u001b[0;34m,\u001b[0m \u001b[0;34m*\u001b[0m\u001b[0margs\u001b[0m\u001b[0;34m,\u001b[0m \u001b[0;34m**\u001b[0m\u001b[0mkwargs\u001b[0m\u001b[0;34m)\u001b[0m\u001b[0;34m\u001b[0m\u001b[0m\n\u001b[0m\u001b[1;32m    178\u001b[0m         \u001b[0;32melse\u001b[0m\u001b[0;34m:\u001b[0m\u001b[0;34m\u001b[0m\u001b[0m\n\u001b[1;32m    179\u001b[0m             \u001b[0;32mwith\u001b[0m \u001b[0mDummyExecutor\u001b[0m\u001b[0;34m(\u001b[0m\u001b[0;34m)\u001b[0m \u001b[0;32mas\u001b[0m \u001b[0mpool\u001b[0m\u001b[0;34m:\u001b[0m\u001b[0;34m\u001b[0m\u001b[0m\n",
      "\u001b[0;32m~/blackbox-attack/foolbox/attacks/boundary_attack.py\u001b[0m in \u001b[0;36m_apply_inner\u001b[0;34m(self, pool, a, iterations, tune_batch_size, threaded_rnd, threaded_gen)\u001b[0m\n\u001b[1;32m    547\u001b[0m                         = a.batch_predictions(\n\u001b[1;32m    548\u001b[0m                             \u001b[0mcandidates\u001b[0m\u001b[0;34m.\u001b[0m\u001b[0mastype\u001b[0m\u001b[0;34m(\u001b[0m\u001b[0mexternal_dtype\u001b[0m\u001b[0;34m)\u001b[0m\u001b[0;34m,\u001b[0m \u001b[0mgreedy\u001b[0m\u001b[0;34m=\u001b[0m\u001b[0;32mTrue\u001b[0m\u001b[0;34m,\u001b[0m\u001b[0;34m\u001b[0m\u001b[0m\n\u001b[0;32m--> 549\u001b[0;31m                             strict=False, return_details=True)\n\u001b[0m\u001b[1;32m    550\u001b[0m                     \u001b[0mt\u001b[0m \u001b[0;34m=\u001b[0m \u001b[0mtime\u001b[0m\u001b[0;34m.\u001b[0m\u001b[0mtime\u001b[0m\u001b[0;34m(\u001b[0m\u001b[0;34m)\u001b[0m \u001b[0;34m-\u001b[0m \u001b[0mt\u001b[0m\u001b[0;34m\u001b[0m\u001b[0m\n\u001b[1;32m    551\u001b[0m                     \u001b[0mself\u001b[0m\u001b[0;34m.\u001b[0m\u001b[0mstats_prediction_duration\u001b[0m\u001b[0;34m[\u001b[0m\u001b[0mself\u001b[0m\u001b[0;34m.\u001b[0m\u001b[0mbatch_size\u001b[0m \u001b[0;34m-\u001b[0m \u001b[0;36m1\u001b[0m\u001b[0;34m]\u001b[0m \u001b[0;34m+=\u001b[0m \u001b[0mt\u001b[0m\u001b[0;34m\u001b[0m\u001b[0m\n",
      "\u001b[0;32m~/blackbox-attack/foolbox/adversarial.py\u001b[0m in \u001b[0;36mbatch_predictions\u001b[0;34m(self, images, greedy, strict, return_details)\u001b[0m\n\u001b[1;32m    267\u001b[0m \u001b[0;34m\u001b[0m\u001b[0m\n\u001b[1;32m    268\u001b[0m         \u001b[0mself\u001b[0m\u001b[0;34m.\u001b[0m\u001b[0m_total_prediction_calls\u001b[0m \u001b[0;34m+=\u001b[0m \u001b[0mlen\u001b[0m\u001b[0;34m(\u001b[0m\u001b[0mimages\u001b[0m\u001b[0;34m)\u001b[0m\u001b[0;34m\u001b[0m\u001b[0m\n\u001b[0;32m--> 269\u001b[0;31m         \u001b[0mpredictions\u001b[0m \u001b[0;34m=\u001b[0m \u001b[0mself\u001b[0m\u001b[0;34m.\u001b[0m\u001b[0m__model\u001b[0m\u001b[0;34m.\u001b[0m\u001b[0mbatch_predictions\u001b[0m\u001b[0;34m(\u001b[0m\u001b[0mimages\u001b[0m\u001b[0;34m)\u001b[0m\u001b[0;34m\u001b[0m\u001b[0m\n\u001b[0m\u001b[1;32m    270\u001b[0m \u001b[0;34m\u001b[0m\u001b[0m\n\u001b[1;32m    271\u001b[0m         \u001b[0;32massert\u001b[0m \u001b[0mpredictions\u001b[0m\u001b[0;34m.\u001b[0m\u001b[0mndim\u001b[0m \u001b[0;34m==\u001b[0m \u001b[0;36m2\u001b[0m\u001b[0;34m\u001b[0m\u001b[0m\n",
      "\u001b[0;32m~/blackbox-attack/foolbox/models/pytorch.py\u001b[0m in \u001b[0;36mbatch_predictions\u001b[0;34m(self, images)\u001b[0m\n\u001b[1;32m     60\u001b[0m         \u001b[0mimages\u001b[0m \u001b[0;34m=\u001b[0m \u001b[0mtorch\u001b[0m\u001b[0;34m.\u001b[0m\u001b[0mfrom_numpy\u001b[0m\u001b[0;34m(\u001b[0m\u001b[0mimages\u001b[0m\u001b[0;34m)\u001b[0m\u001b[0;34m\u001b[0m\u001b[0m\n\u001b[1;32m     61\u001b[0m         \u001b[0;32mif\u001b[0m \u001b[0mself\u001b[0m\u001b[0;34m.\u001b[0m\u001b[0mcuda\u001b[0m\u001b[0;34m:\u001b[0m  \u001b[0;31m# pragma: no cover\u001b[0m\u001b[0;34m\u001b[0m\u001b[0m\n\u001b[0;32m---> 62\u001b[0;31m             \u001b[0mimages\u001b[0m \u001b[0;34m=\u001b[0m \u001b[0mimages\u001b[0m\u001b[0;34m.\u001b[0m\u001b[0mcuda\u001b[0m\u001b[0;34m(\u001b[0m\u001b[0;34m)\u001b[0m\u001b[0;34m\u001b[0m\u001b[0m\n\u001b[0m\u001b[1;32m     63\u001b[0m         \u001b[0mimages\u001b[0m \u001b[0;34m=\u001b[0m \u001b[0mVariable\u001b[0m\u001b[0;34m(\u001b[0m\u001b[0mimages\u001b[0m\u001b[0;34m,\u001b[0m \u001b[0mvolatile\u001b[0m\u001b[0;34m=\u001b[0m\u001b[0;32mTrue\u001b[0m\u001b[0;34m)\u001b[0m\u001b[0;34m\u001b[0m\u001b[0m\n\u001b[1;32m     64\u001b[0m         \u001b[0mpredictions\u001b[0m \u001b[0;34m=\u001b[0m \u001b[0mself\u001b[0m\u001b[0;34m.\u001b[0m\u001b[0m_model\u001b[0m\u001b[0;34m(\u001b[0m\u001b[0mimages\u001b[0m\u001b[0;34m)\u001b[0m\u001b[0;34m\u001b[0m\u001b[0m\n",
      "\u001b[0;32m~/anaconda3/lib/python3.6/site-packages/torch/_utils.py\u001b[0m in \u001b[0;36m_cuda\u001b[0;34m(self, device, async)\u001b[0m\n\u001b[1;32m     67\u001b[0m         \u001b[0;32melse\u001b[0m\u001b[0;34m:\u001b[0m\u001b[0;34m\u001b[0m\u001b[0m\n\u001b[1;32m     68\u001b[0m             \u001b[0mnew_type\u001b[0m \u001b[0;34m=\u001b[0m \u001b[0mgetattr\u001b[0m\u001b[0;34m(\u001b[0m\u001b[0mtorch\u001b[0m\u001b[0;34m.\u001b[0m\u001b[0mcuda\u001b[0m\u001b[0;34m,\u001b[0m \u001b[0mself\u001b[0m\u001b[0;34m.\u001b[0m\u001b[0m__class__\u001b[0m\u001b[0;34m.\u001b[0m\u001b[0m__name__\u001b[0m\u001b[0;34m)\u001b[0m\u001b[0;34m\u001b[0m\u001b[0m\n\u001b[0;32m---> 69\u001b[0;31m             \u001b[0;32mreturn\u001b[0m \u001b[0mnew_type\u001b[0m\u001b[0;34m(\u001b[0m\u001b[0mself\u001b[0m\u001b[0;34m.\u001b[0m\u001b[0msize\u001b[0m\u001b[0;34m(\u001b[0m\u001b[0;34m)\u001b[0m\u001b[0;34m)\u001b[0m\u001b[0;34m.\u001b[0m\u001b[0mcopy_\u001b[0m\u001b[0;34m(\u001b[0m\u001b[0mself\u001b[0m\u001b[0;34m,\u001b[0m \u001b[0masync\u001b[0m\u001b[0;34m)\u001b[0m\u001b[0;34m\u001b[0m\u001b[0m\n\u001b[0m\u001b[1;32m     70\u001b[0m \u001b[0;34m\u001b[0m\u001b[0m\n\u001b[1;32m     71\u001b[0m \u001b[0;34m\u001b[0m\u001b[0m\n",
      "\u001b[0;31mKeyboardInterrupt\u001b[0m: "
     ]
    }
   ],
   "source": [
    "adv = attack(image,label,iterations=5000, verbose=True, unpack=False, threaded_gen=1, threaded_rnd=1)"
   ]
  },
  {
   "cell_type": "code",
   "execution_count": 18,
   "metadata": {},
   "outputs": [
    {
     "data": {
      "text/plain": [
       "0.18515235"
      ]
     },
     "execution_count": 18,
     "metadata": {},
     "output_type": "execute_result"
    }
   ],
   "source": [
    "from numpy import linalg as LA\n",
    "LA.norm(adv.image-image)"
   ]
  },
  {
   "cell_type": "code",
   "execution_count": 19,
   "metadata": {},
   "outputs": [
    {
     "data": {
      "text/plain": [
       "111806"
      ]
     },
     "execution_count": 19,
     "metadata": {},
     "output_type": "execute_result"
    }
   ],
   "source": [
    "adv._total_prediction_calls"
   ]
  },
  {
   "cell_type": "code",
   "execution_count": 9,
   "metadata": {},
   "outputs": [
    {
     "ename": "AttributeError",
     "evalue": "'Adversarial' object has no attribute '_crit'",
     "output_type": "error",
     "traceback": [
      "\u001b[0;31m---------------------------------------------------------------------------\u001b[0m",
      "\u001b[0;31mAttributeError\u001b[0m                            Traceback (most recent call last)",
      "\u001b[0;32m<ipython-input-9-0ed7af8a504a>\u001b[0m in \u001b[0;36m<module>\u001b[0;34m()\u001b[0m\n\u001b[0;32m----> 1\u001b[0;31m \u001b[0madv\u001b[0m\u001b[0;34m.\u001b[0m\u001b[0m_crit\u001b[0m\u001b[0;34m\u001b[0m\u001b[0m\n\u001b[0m",
      "\u001b[0;31mAttributeError\u001b[0m: 'Adversarial' object has no attribute '_crit'"
     ]
    }
   ],
   "source": [
    "adv._crit"
   ]
  },
  {
   "cell_type": "code",
   "execution_count": null,
   "metadata": {
    "collapsed": true
   },
   "outputs": [],
   "source": []
  }
 ],
 "metadata": {
  "kernelspec": {
   "display_name": "Python 3",
   "language": "python",
   "name": "python3"
  },
  "language_info": {
   "codemirror_mode": {
    "name": "ipython",
    "version": 3
   },
   "file_extension": ".py",
   "mimetype": "text/x-python",
   "name": "python",
   "nbconvert_exporter": "python",
   "pygments_lexer": "ipython3",
   "version": "3.6.2"
  }
 },
 "nbformat": 4,
 "nbformat_minor": 2
}
