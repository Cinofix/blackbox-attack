{
 "cells": [
  {
   "cell_type": "code",
   "execution_count": 1,
   "metadata": {
    "collapsed": true
   },
   "outputs": [],
   "source": [
    "from numpy import linalg as LA\n",
    "import torch, foolbox, random\n",
    "import numpy as np\n",
    "from models import MNIST, CIFAR10, IMAGENET, SimpleMNIST, load_mnist_data, load_cifar10_data, imagenettest, load_model\n",
    "import os\n",
    "os.environ['CUDA_VISIBLE_DEVICES'] = '1'"
   ]
  },
  {
   "cell_type": "code",
   "execution_count": 2,
   "metadata": {},
   "outputs": [
    {
     "name": "stdout",
     "output_type": "stream",
     "text": [
      "Files already downloaded and verified\n",
      "Files already downloaded and verified\n"
     ]
    }
   ],
   "source": [
    "train_loader, test_loader, train_dataset, test_dataset = load_cifar10_data()"
   ]
  },
  {
   "cell_type": "code",
   "execution_count": 3,
   "metadata": {
    "collapsed": true
   },
   "outputs": [],
   "source": [
    "net = CIFAR10()\n",
    "net.cuda()\n",
    "net = torch.nn.DataParallel(net, device_ids=[0])\n",
    "load_model(net, 'models/cifar10_gpu.pt')\n",
    "net.eval()\n",
    "model = net.module if torch.cuda.is_available() else net"
   ]
  },
  {
   "cell_type": "code",
   "execution_count": 4,
   "metadata": {
    "collapsed": true
   },
   "outputs": [],
   "source": [
    "fmodel = foolbox.models.PyTorchModel(model, bounds=[0,1], num_classes=10)\n",
    "attack = foolbox.attacks.BoundaryAttack(fmodel)"
   ]
  },
  {
   "cell_type": "code",
   "execution_count": 6,
   "metadata": {
    "scrolled": true
   },
   "outputs": [
    {
     "name": "stdout",
     "output_type": "stream",
     "text": [
      "6411\n",
      "run with verbose=True to see details\n",
      "Step 0: distortion 5.384036 num_query 239 output 2\n",
      "Step 1000: distortion 0.326278 num_query 29369 output 2 (took 0.02149 seconds)\n",
      "Step 2000: distortion 0.227381 num_query 57984 output 2 (took 0.02339 seconds)\n",
      "Step 3000: distortion 0.202284 num_query 82695 output 2 (took 0.01711 seconds)\n",
      "Step 4000: distortion 0.192310 num_query 111365 output 2 (took 0.01997 seconds)\n",
      "Step 5000: distortion 0.187976 num_query 140055 output 2 (took 0.03457 seconds)\n",
      "Step 6000: distortion 0.185719 num_query 168628 output 2 (took 0.02825 seconds)\n",
      "Step 7000: distortion 0.184653 num_query 197296 output 2 (took 0.02699 seconds)\n",
      "Step 8000: distortion 0.184035 num_query 225975 output 2 (took 0.01650 seconds)\n",
      "Step 9000: distortion 0.183791 num_query 254479 output 2 (took 0.01675 seconds)\n",
      "Step 9980: distortion 0.183694 num_query 282168 output 2\n",
      "Step 10000: distortion 0.183694 num_query 282707 output 2 (took 0.02495 seconds)\n",
      "0.18369436 282708\n",
      "2\n",
      "4360\n",
      "run with verbose=True to see details\n",
      "Step 0: distortion 13.185944 num_query 555 output 8\n",
      "Step 1000: distortion 0.201094 num_query 27222 output 1 (took 0.01872 seconds)\n",
      "Step 2000: distortion 0.137806 num_query 55784 output 1 (took 0.03030 seconds)\n",
      "Step 3000: distortion 0.123455 num_query 84386 output 1 (took 0.03408 seconds)\n",
      "Step 4000: distortion 0.117798 num_query 112966 output 1 (took 0.02519 seconds)\n",
      "Step 5000: distortion 0.115345 num_query 141544 output 1 (took 0.02455 seconds)\n",
      "Step 6000: distortion 0.114350 num_query 170139 output 1 (took 0.03031 seconds)\n",
      "Step 7000: distortion 0.113863 num_query 198600 output 1 (took 0.01861 seconds)\n",
      "Step 8000: distortion 0.113524 num_query 227165 output 1 (took 0.03034 seconds)\n"
     ]
    },
    {
     "name": "stderr",
     "output_type": "stream",
     "text": [
      "/home/cmhcbb/blackbox-attack/foolbox/attacks/boundary_attack.py:575: UserWarning: Internal inconsistency, probably caused by numerical errors\n",
      "  warnings.warn('Internal inconsistency, probably caused by '\n"
     ]
    },
    {
     "name": "stdout",
     "output_type": "stream",
     "text": [
      "Step 8660: distortion 0.113444 num_query 245645 output 6\n",
      "Step 8768: distortion 0.113444 num_query 248610 output 6\n",
      "Step 8769: distortion 0.113444 num_query 248640 output 6\n",
      "Step 8770: distortion 0.113444 num_query 248673 output 6\n",
      "Step 8771: distortion 0.113444 num_query 248706 output 6\n",
      "Step 8772: distortion 0.113444 num_query 248739 output 1\n",
      "Step 8773: distortion 0.113444 num_query 248767 output 1\n",
      "Step 8774: distortion 0.113444 num_query 248797 output 1\n",
      "Step 8775: distortion 0.113444 num_query 248828 output 1\n",
      "Step 8776: distortion 0.113444 num_query 248855 output 1\n",
      "Step 8777: distortion 0.113444 num_query 248883 output 1\n",
      "Step 8778: distortion 0.113444 num_query 248915 output 1\n",
      "Step 8779: distortion 0.113444 num_query 248944 output 1\n"
     ]
    },
    {
     "name": "stderr",
     "output_type": "stream",
     "text": [
      "/home/cmhcbb/blackbox-attack/foolbox/attacks/boundary_attack.py:575: UserWarning: Internal inconsistency, probably caused by numerical errors\n",
      "  warnings.warn('Internal inconsistency, probably caused by '\n",
      "/home/cmhcbb/blackbox-attack/foolbox/attacks/boundary_attack.py:575: UserWarning: Internal inconsistency, probably caused by numerical errors\n",
      "  warnings.warn('Internal inconsistency, probably caused by '\n",
      "/home/cmhcbb/blackbox-attack/foolbox/attacks/boundary_attack.py:575: UserWarning: Internal inconsistency, probably caused by numerical errors\n",
      "  warnings.warn('Internal inconsistency, probably caused by '\n",
      "/home/cmhcbb/blackbox-attack/foolbox/attacks/boundary_attack.py:575: UserWarning: Internal inconsistency, probably caused by numerical errors\n",
      "  warnings.warn('Internal inconsistency, probably caused by '\n",
      "/home/cmhcbb/blackbox-attack/foolbox/attacks/boundary_attack.py:575: UserWarning: Internal inconsistency, probably caused by numerical errors\n",
      "  warnings.warn('Internal inconsistency, probably caused by '\n",
      "/home/cmhcbb/blackbox-attack/foolbox/attacks/boundary_attack.py:575: UserWarning: Internal inconsistency, probably caused by numerical errors\n",
      "  warnings.warn('Internal inconsistency, probably caused by '\n",
      "/home/cmhcbb/blackbox-attack/foolbox/attacks/boundary_attack.py:575: UserWarning: Internal inconsistency, probably caused by numerical errors\n",
      "  warnings.warn('Internal inconsistency, probably caused by '\n"
     ]
    },
    {
     "name": "stdout",
     "output_type": "stream",
     "text": [
      "Step 8780: distortion 0.113444 num_query 248975 output 1\n",
      "Step 8781: distortion 0.113444 num_query 249005 output 1\n",
      "Step 8782: distortion 0.113444 num_query 249034 output 1\n",
      "Step 8783: distortion 0.113444 num_query 249063 output 1\n",
      "Step 8784: distortion 0.113444 num_query 249095 output 1\n",
      "Step 8785: distortion 0.113444 num_query 249124 output 1\n",
      "Step 8786: distortion 0.113444 num_query 249155 output 1\n",
      "Step 8787: distortion 0.113444 num_query 249187 output 1\n",
      "Step 8788: distortion 0.113444 num_query 249217 output 1\n",
      "Step 8789: distortion 0.113444 num_query 249245 output 1\n",
      "Step 8790: distortion 0.113444 num_query 249275 output 1\n",
      "Step 8791: distortion 0.113444 num_query 249306 output 1\n"
     ]
    },
    {
     "name": "stderr",
     "output_type": "stream",
     "text": [
      "/home/cmhcbb/blackbox-attack/foolbox/attacks/boundary_attack.py:575: UserWarning: Internal inconsistency, probably caused by numerical errors\n",
      "  warnings.warn('Internal inconsistency, probably caused by '\n",
      "/home/cmhcbb/blackbox-attack/foolbox/attacks/boundary_attack.py:575: UserWarning: Internal inconsistency, probably caused by numerical errors\n",
      "  warnings.warn('Internal inconsistency, probably caused by '\n",
      "/home/cmhcbb/blackbox-attack/foolbox/attacks/boundary_attack.py:575: UserWarning: Internal inconsistency, probably caused by numerical errors\n",
      "  warnings.warn('Internal inconsistency, probably caused by '\n",
      "/home/cmhcbb/blackbox-attack/foolbox/attacks/boundary_attack.py:575: UserWarning: Internal inconsistency, probably caused by numerical errors\n",
      "  warnings.warn('Internal inconsistency, probably caused by '\n",
      "/home/cmhcbb/blackbox-attack/foolbox/attacks/boundary_attack.py:575: UserWarning: Internal inconsistency, probably caused by numerical errors\n",
      "  warnings.warn('Internal inconsistency, probably caused by '\n",
      "/home/cmhcbb/blackbox-attack/foolbox/attacks/boundary_attack.py:575: UserWarning: Internal inconsistency, probably caused by numerical errors\n",
      "  warnings.warn('Internal inconsistency, probably caused by '\n"
     ]
    },
    {
     "name": "stdout",
     "output_type": "stream",
     "text": [
      "Step 8792: distortion 0.113444 num_query 249336 output 1\n",
      "Step 8793: distortion 0.113444 num_query 249370 output 1\n",
      "Step 8794: distortion 0.113444 num_query 249403 output 1\n",
      "Step 8795: distortion 0.113444 num_query 249440 output 1\n",
      "Step 8796: distortion 0.113444 num_query 249472 output 1\n",
      "Step 8797: distortion 0.113444 num_query 249502 output 1\n",
      "Step 8798: distortion 0.113444 num_query 249535 output 1\n",
      "Step 8799: distortion 0.113444 num_query 249565 output 1\n",
      "Step 8800: distortion 0.113444 num_query 249606 output 1\n",
      "Step 8801: distortion 0.113444 num_query 249646 output 1\n",
      "Step 8802: distortion 0.113444 num_query 249683 output 1\n"
     ]
    },
    {
     "name": "stderr",
     "output_type": "stream",
     "text": [
      "/home/cmhcbb/blackbox-attack/foolbox/attacks/boundary_attack.py:575: UserWarning: Internal inconsistency, probably caused by numerical errors\n",
      "  warnings.warn('Internal inconsistency, probably caused by '\n",
      "/home/cmhcbb/blackbox-attack/foolbox/attacks/boundary_attack.py:575: UserWarning: Internal inconsistency, probably caused by numerical errors\n",
      "  warnings.warn('Internal inconsistency, probably caused by '\n",
      "/home/cmhcbb/blackbox-attack/foolbox/attacks/boundary_attack.py:575: UserWarning: Internal inconsistency, probably caused by numerical errors\n",
      "  warnings.warn('Internal inconsistency, probably caused by '\n"
     ]
    },
    {
     "name": "stdout",
     "output_type": "stream",
     "text": [
      "Step 8803: distortion 0.113444 num_query 249721 output 1\n",
      "Step 8804: distortion 0.113444 num_query 249755 output 1\n",
      "Step 8805: distortion 0.113444 num_query 249791 output 1\n",
      "Step 8806: distortion 0.113444 num_query 249829 output 1\n",
      "Step 8807: distortion 0.113444 num_query 249865 output 1\n",
      "Step 8808: distortion 0.113444 num_query 249902 output 1\n",
      "Step 8809: distortion 0.113444 num_query 249941 output 1\n",
      "Step 8810: distortion 0.113444 num_query 249973 output 1\n",
      "Step 8811: distortion 0.113444 num_query 250010 output 1\n",
      "Step 8812: distortion 0.113444 num_query 250049 output 1\n",
      "Step 8813: distortion 0.113444 num_query 250089 output 1\n",
      "Step 8814: distortion 0.113444 num_query 250121 output 1\n",
      "Step 8815: distortion 0.113444 num_query 250157 output 1\n",
      "Step 8816: distortion 0.113444 num_query 250195 output 1\n"
     ]
    },
    {
     "name": "stderr",
     "output_type": "stream",
     "text": [
      "/home/cmhcbb/blackbox-attack/foolbox/attacks/boundary_attack.py:575: UserWarning: Internal inconsistency, probably caused by numerical errors\n",
      "  warnings.warn('Internal inconsistency, probably caused by '\n",
      "/home/cmhcbb/blackbox-attack/foolbox/attacks/boundary_attack.py:575: UserWarning: Internal inconsistency, probably caused by numerical errors\n",
      "  warnings.warn('Internal inconsistency, probably caused by '\n"
     ]
    },
    {
     "name": "stdout",
     "output_type": "stream",
     "text": [
      "Step 8817: distortion 0.113444 num_query 250233 output 1\n",
      "Step 8818: distortion 0.113444 num_query 250265 output 1\n",
      "Step 8819: distortion 0.113444 num_query 250300 output 1\n",
      "Step 8820: distortion 0.113444 num_query 250339 output 1\n",
      "Step 8821: distortion 0.113444 num_query 250375 output 1\n",
      "Step 8822: distortion 0.113444 num_query 250407 output 1\n",
      "Step 8823: distortion 0.113444 num_query 250448 output 1\n",
      "Step 8824: distortion 0.113444 num_query 250484 output 1\n",
      "Step 8825: distortion 0.113444 num_query 250521 output 1\n"
     ]
    },
    {
     "name": "stderr",
     "output_type": "stream",
     "text": [
      "/home/cmhcbb/blackbox-attack/foolbox/attacks/boundary_attack.py:575: UserWarning: Internal inconsistency, probably caused by numerical errors\n",
      "  warnings.warn('Internal inconsistency, probably caused by '\n",
      "/home/cmhcbb/blackbox-attack/foolbox/attacks/boundary_attack.py:575: UserWarning: Internal inconsistency, probably caused by numerical errors\n",
      "  warnings.warn('Internal inconsistency, probably caused by '\n"
     ]
    },
    {
     "name": "stdout",
     "output_type": "stream",
     "text": [
      "Step 8826: distortion 0.113444 num_query 250560 output 1\n",
      "Step 8827: distortion 0.113444 num_query 250598 output 1\n",
      "Step 8828: distortion 0.113444 num_query 250633 output 1\n",
      "Step 8829: distortion 0.113444 num_query 250669 output 1\n",
      "Step 8830: distortion 0.113444 num_query 250706 output 1\n",
      "Step 8831: distortion 0.113444 num_query 250741 output 1\n",
      "Step 8832: distortion 0.113444 num_query 250779 output 1\n",
      "Step 8833: distortion 0.113444 num_query 250811 output 1\n",
      "Step 8834: distortion 0.113444 num_query 250849 output 1\n",
      "Step 8835: distortion 0.113444 num_query 250884 output 1\n",
      "Step 8836: distortion 0.113444 num_query 250921 output 1\n",
      "Step 8837: distortion 0.113444 num_query 250956 output 1\n",
      "Step 8838: distortion 0.113444 num_query 250993 output 1\n",
      "Step 8839: distortion 0.113444 num_query 251032 output 1\n",
      "Step 8840: distortion 0.113444 num_query 251071 output 1\n",
      "Step 8841: distortion 0.113444 num_query 251112 output 1\n"
     ]
    },
    {
     "name": "stderr",
     "output_type": "stream",
     "text": [
      "/home/cmhcbb/blackbox-attack/foolbox/attacks/boundary_attack.py:575: UserWarning: Internal inconsistency, probably caused by numerical errors\n",
      "  warnings.warn('Internal inconsistency, probably caused by '\n"
     ]
    },
    {
     "name": "stdout",
     "output_type": "stream",
     "text": [
      "Step 8842: distortion 0.113444 num_query 251147 output 1\n",
      "Step 8843: distortion 0.113444 num_query 251181 output 1\n",
      "Step 8844: distortion 0.113444 num_query 251218 output 1\n",
      "Step 8845: distortion 0.113444 num_query 251252 output 1\n",
      "Step 8846: distortion 0.113444 num_query 251288 output 1\n",
      "Step 8847: distortion 0.113444 num_query 251324 output 1\n",
      "Step 8848: distortion 0.113444 num_query 251364 output 1\n",
      "Step 8849: distortion 0.113444 num_query 251399 output 1\n",
      "Step 8850: distortion 0.113444 num_query 251435 output 1\n",
      "Step 8851: distortion 0.113444 num_query 251470 output 1\n",
      "Step 8852: distortion 0.113444 num_query 251503 output 1\n",
      "Step 8853: distortion 0.113444 num_query 251539 output 1\n",
      "Step 8854: distortion 0.113444 num_query 251575 output 1\n",
      "Step 8855: distortion 0.113444 num_query 251618 output 1\n",
      "Step 8856: distortion 0.113444 num_query 251652 output 1\n",
      "Step 8857: distortion 0.113444 num_query 251689 output 1\n",
      "Step 8858: distortion 0.113444 num_query 251723 output 1\n",
      "Step 8859: distortion 0.113444 num_query 251756 output 1\n",
      "Step 8860: distortion 0.113444 num_query 251792 output 1\n"
     ]
    },
    {
     "name": "stderr",
     "output_type": "stream",
     "text": [
      "/home/cmhcbb/blackbox-attack/foolbox/attacks/boundary_attack.py:575: UserWarning: Internal inconsistency, probably caused by numerical errors\n",
      "  warnings.warn('Internal inconsistency, probably caused by '\n",
      "/home/cmhcbb/blackbox-attack/foolbox/attacks/boundary_attack.py:575: UserWarning: Internal inconsistency, probably caused by numerical errors\n",
      "  warnings.warn('Internal inconsistency, probably caused by '\n"
     ]
    },
    {
     "name": "stdout",
     "output_type": "stream",
     "text": [
      "Step 8861: distortion 0.113444 num_query 251827 output 1\n",
      "Step 8862: distortion 0.113444 num_query 251862 output 1\n",
      "Step 8863: distortion 0.113444 num_query 251899 output 1\n",
      "Step 8864: distortion 0.113444 num_query 251934 output 1\n",
      "Step 8865: distortion 0.113444 num_query 251974 output 1\n",
      "Step 8866: distortion 0.113444 num_query 252007 output 1\n",
      "Step 8867: distortion 0.113444 num_query 252043 output 1\n",
      "0.11344401 252044\n",
      "1\n",
      "7753\n",
      "run with verbose=True to see details\n"
     ]
    },
    {
     "name": "stderr",
     "output_type": "stream",
     "text": [
      "/home/cmhcbb/blackbox-attack/foolbox/attacks/boundary_attack.py:575: UserWarning: Internal inconsistency, probably caused by numerical errors\n",
      "  warnings.warn('Internal inconsistency, probably caused by '\n"
     ]
    },
    {
     "name": "stdout",
     "output_type": "stream",
     "text": [
      "Step 0: distortion 5.962407 num_query 261 output 4\n",
      "Step 1000: distortion 0.311097 num_query 27521 output 7 (took 0.03477 seconds)\n",
      "Step 2000: distortion 0.222630 num_query 56051 output 7 (took 0.02576 seconds)\n",
      "Step 3000: distortion 0.201626 num_query 84632 output 7 (took 0.01407 seconds)\n",
      "Step 4000: distortion 0.192758 num_query 113178 output 7 (took 0.03443 seconds)\n",
      "Step 5000: distortion 0.189270 num_query 141728 output 7 (took 0.03429 seconds)\n",
      "Step 6000: distortion 0.187479 num_query 170440 output 7 (took 0.02619 seconds)\n",
      "Step 7000: distortion 0.186543 num_query 199079 output 7 (took 0.03454 seconds)\n",
      "Step 8000: distortion 0.186006 num_query 227692 output 7 (took 0.02843 seconds)\n",
      "Step 9000: distortion 0.185707 num_query 256223 output 7 (took 0.03212 seconds)\n",
      "Step 10000: distortion 0.185538 num_query 284730 output 9 (took 0.02131 seconds)\n",
      "0.185538 284731\n",
      "9\n",
      "7413\n",
      "run with verbose=True to see details\n",
      "Step 0: distortion 5.452070 num_query 225 output 6\n",
      "Step 1000: distortion 0.219615 num_query 28926 output 6 (took 0.02793 seconds)\n",
      "Step 2000: distortion 0.161766 num_query 57529 output 6 (took 0.02555 seconds)\n",
      "Step 3000: distortion 0.147066 num_query 86246 output 6 (took 0.01833 seconds)\n",
      "Step 4000: distortion 0.141164 num_query 114419 output 6 (took 0.03431 seconds)\n",
      "Step 5000: distortion 0.138653 num_query 142231 output 6 (took 0.02445 seconds)\n",
      "Step 6000: distortion 0.137398 num_query 170797 output 6 (took 0.02761 seconds)\n",
      "Step 7000: distortion 0.136672 num_query 199278 output 6 (took 0.03436 seconds)\n",
      "Step 8000: distortion 0.136286 num_query 227856 output 6 (took 0.03045 seconds)\n",
      "Step 9000: distortion 0.136080 num_query 256419 output 6 (took 0.02966 seconds)\n"
     ]
    },
    {
     "name": "stderr",
     "output_type": "stream",
     "text": [
      "/home/cmhcbb/blackbox-attack/foolbox/attacks/boundary_attack.py:575: UserWarning: Internal inconsistency, probably caused by numerical errors\n",
      "  warnings.warn('Internal inconsistency, probably caused by '\n",
      "/home/cmhcbb/blackbox-attack/foolbox/attacks/boundary_attack.py:575: UserWarning: Internal inconsistency, probably caused by numerical errors\n",
      "  warnings.warn('Internal inconsistency, probably caused by '\n"
     ]
    },
    {
     "name": "stdout",
     "output_type": "stream",
     "text": [
      "Step 9870: distortion 0.136005 num_query 281150 output 1\n",
      "Step 9982: distortion 0.136005 num_query 284203 output 1\n",
      "Step 9983: distortion 0.136005 num_query 284230 output 1\n",
      "Step 9984: distortion 0.136005 num_query 284258 output 1\n",
      "Step 9985: distortion 0.136005 num_query 284285 output 1\n",
      "Step 9986: distortion 0.136005 num_query 284312 output 1\n",
      "Step 9987: distortion 0.136005 num_query 284340 output 1\n",
      "Step 9988: distortion 0.136005 num_query 284368 output 1\n",
      "Step 9989: distortion 0.136005 num_query 284395 output 1\n",
      "Step 9990: distortion 0.136005 num_query 284423 output 1\n",
      "Step 9991: distortion 0.136005 num_query 284450 output 1\n",
      "Step 9992: distortion 0.136005 num_query 284477 output 1\n",
      "Step 9993: distortion 0.136005 num_query 284504 output 1\n",
      "Step 9994: distortion 0.136005 num_query 284532 output 1\n",
      "Step 9995: distortion 0.136005 num_query 284560 output 1\n",
      "Step 9996: distortion 0.136005 num_query 284587 output 1\n",
      "Step 9997: distortion 0.136005 num_query 284616 output 1\n",
      "Step 9998: distortion 0.136005 num_query 284645 output 1\n",
      "Step 9999: distortion 0.136005 num_query 284673 output 1\n",
      "Step 10000: distortion 0.136005 num_query 284701 output 1 (took 0.02292 seconds)\n",
      "0.13600475 284702\n",
      "1\n",
      "684\n",
      "run with verbose=True to see details\n",
      "Step 0: distortion 2.698554 num_query 118 output 8\n",
      "Step 1000: distortion 0.202080 num_query 31458 output 8 (took 0.02998 seconds)\n",
      "Step 2000: distortion 0.150372 num_query 60052 output 8 (took 0.02845 seconds)\n",
      "Step 3000: distortion 0.136119 num_query 88733 output 8 (took 0.01726 seconds)\n",
      "Step 4000: distortion 0.130457 num_query 117313 output 8 (took 0.03456 seconds)\n",
      "Step 5000: distortion 0.127782 num_query 145801 output 8 (took 0.02957 seconds)\n",
      "Step 6000: distortion 0.126518 num_query 174370 output 8 (took 0.02833 seconds)\n",
      "Step 7000: distortion 0.125835 num_query 203006 output 8 (took 0.02973 seconds)\n",
      "Step 8000: distortion 0.125387 num_query 231612 output 8 (took 0.03667 seconds)\n",
      "Step 9000: distortion 0.125224 num_query 260143 output 8 (took 0.01594 seconds)\n"
     ]
    },
    {
     "name": "stderr",
     "output_type": "stream",
     "text": [
      "/home/cmhcbb/blackbox-attack/foolbox/attacks/boundary_attack.py:575: UserWarning: Internal inconsistency, probably caused by numerical errors\n",
      "  warnings.warn('Internal inconsistency, probably caused by '\n"
     ]
    },
    {
     "name": "stdout",
     "output_type": "stream",
     "text": [
      "Step 9210: distortion 0.125218 num_query 265969 output 8\n"
     ]
    },
    {
     "name": "stderr",
     "output_type": "stream",
     "text": [
      "/home/cmhcbb/blackbox-attack/foolbox/attacks/boundary_attack.py:575: UserWarning: Internal inconsistency, probably caused by numerical errors\n",
      "  warnings.warn('Internal inconsistency, probably caused by '\n"
     ]
    },
    {
     "name": "stdout",
     "output_type": "stream",
     "text": [
      "Step 9314: distortion 0.125218 num_query 268865 output 8\n",
      "Step 9315: distortion 0.125218 num_query 268892 output 8\n",
      "Step 9316: distortion 0.125218 num_query 268922 output 8\n",
      "Step 9317: distortion 0.125218 num_query 268950 output 8\n",
      "Step 9318: distortion 0.125218 num_query 268977 output 8\n",
      "Step 9319: distortion 0.125218 num_query 269004 output 8\n",
      "Step 9320: distortion 0.125218 num_query 269032 output 9\n",
      "Step 9321: distortion 0.125218 num_query 269060 output 9\n",
      "Step 9322: distortion 0.125218 num_query 269087 output 9\n",
      "Step 9323: distortion 0.125218 num_query 269114 output 9\n",
      "Step 9324: distortion 0.125218 num_query 269142 output 8\n",
      "Step 9325: distortion 0.125218 num_query 269171 output 8\n",
      "Step 9326: distortion 0.125218 num_query 269199 output 8\n",
      "Step 9327: distortion 0.125218 num_query 269227 output 9\n",
      "Step 9328: distortion 0.125218 num_query 269254 output 9\n",
      "Step 9329: distortion 0.125218 num_query 269282 output 9\n",
      "Step 9330: distortion 0.125218 num_query 269310 output 9\n",
      "Step 9331: distortion 0.125218 num_query 269338 output 9\n",
      "Step 9332: distortion 0.125218 num_query 269366 output 9\n",
      "Step 9333: distortion 0.125218 num_query 269399 output 9\n",
      "Step 9334: distortion 0.125218 num_query 269427 output 9\n",
      "Step 9335: distortion 0.125218 num_query 269456 output 9\n",
      "Step 9336: distortion 0.125218 num_query 269488 output 9\n",
      "Step 9337: distortion 0.125218 num_query 269517 output 9\n",
      "Step 9338: distortion 0.125218 num_query 269550 output 9\n",
      "Step 9339: distortion 0.125218 num_query 269597 output 9\n",
      "Step 9340: distortion 0.125218 num_query 269643 output 9\n",
      "Step 9341: distortion 0.125218 num_query 269693 output 9\n",
      "Step 9342: distortion 0.125218 num_query 269738 output 8\n",
      "Step 9343: distortion 0.125218 num_query 269777 output 9\n",
      "Step 9344: distortion 0.125218 num_query 269818 output 9\n",
      "Step 9345: distortion 0.125218 num_query 269853 output 9\n",
      "Step 9346: distortion 0.125218 num_query 269893 output 9\n",
      "Step 9347: distortion 0.125218 num_query 269929 output 9\n",
      "Step 9348: distortion 0.125218 num_query 269970 output 9\n",
      "Step 9349: distortion 0.125218 num_query 270007 output 8\n",
      "Step 9350: distortion 0.125218 num_query 270048 output 8\n",
      "Step 9351: distortion 0.125218 num_query 270088 output 8\n",
      "Step 9352: distortion 0.125218 num_query 270122 output 8\n",
      "Step 9353: distortion 0.125218 num_query 270160 output 8\n",
      "Step 9354: distortion 0.125218 num_query 270196 output 8\n",
      "Step 9355: distortion 0.125218 num_query 270234 output 8\n",
      "Step 9356: distortion 0.125218 num_query 270272 output 8\n",
      "Step 9357: distortion 0.125218 num_query 270307 output 8\n",
      "Step 9358: distortion 0.125218 num_query 270345 output 8\n",
      "Step 9359: distortion 0.125218 num_query 270385 output 8\n",
      "Step 9360: distortion 0.125218 num_query 270421 output 8\n",
      "Step 9361: distortion 0.125218 num_query 270462 output 8\n",
      "Step 9362: distortion 0.125218 num_query 270499 output 8\n",
      "Step 9363: distortion 0.125218 num_query 270538 output 8\n",
      "Step 9364: distortion 0.125218 num_query 270574 output 8\n",
      "Step 9365: distortion 0.125218 num_query 270612 output 8\n",
      "Step 9366: distortion 0.125218 num_query 270648 output 8\n",
      "Step 9367: distortion 0.125218 num_query 270687 output 8\n",
      "Step 9368: distortion 0.125218 num_query 270724 output 8\n",
      "Step 9369: distortion 0.125218 num_query 270763 output 8\n",
      "Step 9370: distortion 0.125218 num_query 270798 output 8\n",
      "Step 9371: distortion 0.125218 num_query 270833 output 8\n",
      "Step 9372: distortion 0.125218 num_query 270869 output 8\n",
      "Step 9373: distortion 0.125218 num_query 270904 output 8\n",
      "Step 9374: distortion 0.125218 num_query 270940 output 8\n",
      "Step 9375: distortion 0.125218 num_query 270978 output 8\n",
      "Step 9376: distortion 0.125218 num_query 271018 output 8\n",
      "Step 9377: distortion 0.125218 num_query 271057 output 8\n",
      "Step 9378: distortion 0.125218 num_query 271095 output 8\n",
      "Step 9379: distortion 0.125218 num_query 271138 output 8\n",
      "Step 9380: distortion 0.125218 num_query 271170 output 8\n",
      "Step 9381: distortion 0.125218 num_query 271200 output 8\n",
      "Step 9382: distortion 0.125218 num_query 271231 output 8\n",
      "Step 9383: distortion 0.125218 num_query 271261 output 8\n",
      "Step 9384: distortion 0.125218 num_query 271294 output 8\n",
      "Step 9385: distortion 0.125218 num_query 271332 output 8\n",
      "Step 9386: distortion 0.125218 num_query 271368 output 8\n",
      "Step 9387: distortion 0.125218 num_query 271404 output 8\n",
      "Step 9388: distortion 0.125218 num_query 271437 output 8\n",
      "Step 9389: distortion 0.125218 num_query 271479 output 8\n",
      "Step 9390: distortion 0.125218 num_query 271524 output 8\n",
      "Step 9391: distortion 0.125218 num_query 271569 output 8\n",
      "Step 9392: distortion 0.125218 num_query 271608 output 8\n",
      "Step 9393: distortion 0.125218 num_query 271647 output 8\n",
      "Step 9394: distortion 0.125218 num_query 271689 output 8\n",
      "Step 9395: distortion 0.125218 num_query 271729 output 8\n",
      "Step 9396: distortion 0.125218 num_query 271763 output 8\n",
      "Step 9397: distortion 0.125218 num_query 271795 output 8\n",
      "Step 9398: distortion 0.125218 num_query 271826 output 8\n",
      "Step 9399: distortion 0.125218 num_query 271857 output 8\n",
      "Step 9400: distortion 0.125218 num_query 271891 output 8\n",
      "Step 9401: distortion 0.125218 num_query 271923 output 8\n",
      "Step 9402: distortion 0.125218 num_query 271959 output 8\n",
      "Step 9403: distortion 0.125218 num_query 271999 output 8\n",
      "Step 9404: distortion 0.125218 num_query 272033 output 8\n",
      "Step 9405: distortion 0.125218 num_query 272074 output 8\n",
      "Step 9406: distortion 0.125218 num_query 272111 output 8\n",
      "Step 9407: distortion 0.125218 num_query 272145 output 8\n",
      "Step 9408: distortion 0.125218 num_query 272179 output 8\n",
      "Step 9409: distortion 0.125218 num_query 272216 output 8\n",
      "Step 9410: distortion 0.125218 num_query 272253 output 8\n",
      "Step 9411: distortion 0.125218 num_query 272294 output 8\n",
      "Step 9412: distortion 0.125218 num_query 272329 output 8\n",
      "Step 9413: distortion 0.125218 num_query 272363 output 8\n",
      "0.12521803 272364\n",
      "8\n",
      "3343\n",
      "run with verbose=True to see details\n",
      "Step 0: distortion 6.644492 num_query 257 output 6\n",
      "Step 1000: distortion 0.107122 num_query 28371 output 2 (took 0.03235 seconds)\n",
      "Step 2000: distortion 0.079052 num_query 55947 output 2 (took 0.01904 seconds)\n",
      "Step 3000: distortion 0.071418 num_query 84638 output 2 (took 0.02187 seconds)\n",
      "Step 4000: distortion 0.068677 num_query 113287 output 2 (took 0.01699 seconds)\n",
      "Step 5000: distortion 0.067269 num_query 141924 output 2 (took 0.03249 seconds)\n",
      "Step 6000: distortion 0.066748 num_query 170485 output 2 (took 0.03897 seconds)\n",
      "Step 7000: distortion 0.066562 num_query 198743 output 3 (took 0.01286 seconds)\n",
      "Step 7110: distortion 0.066562 num_query 201717 output 3\n",
      "Step 7221: distortion 0.066562 num_query 204745 output 2\n",
      "Step 7222: distortion 0.066562 num_query 204773 output 2\n",
      "Step 7223: distortion 0.066562 num_query 204803 output 2\n",
      "Step 7224: distortion 0.066562 num_query 204831 output 2\n",
      "Step 7225: distortion 0.066562 num_query 204859 output 2\n",
      "Step 7226: distortion 0.066562 num_query 204888 output 2\n",
      "Step 7227: distortion 0.066562 num_query 204917 output 2\n",
      "Step 7228: distortion 0.066562 num_query 204946 output 2\n",
      "Step 7229: distortion 0.066562 num_query 204979 output 2\n",
      "Step 7230: distortion 0.066562 num_query 205010 output 2\n",
      "Step 7231: distortion 0.066562 num_query 205040 output 2\n",
      "Step 7232: distortion 0.066562 num_query 205070 output 2\n",
      "Step 7233: distortion 0.066562 num_query 205103 output 2\n",
      "Step 7234: distortion 0.066562 num_query 205133 output 2\n",
      "Step 7235: distortion 0.066562 num_query 205172 output 2\n",
      "Step 7236: distortion 0.066562 num_query 205208 output 2\n",
      "Step 7237: distortion 0.066562 num_query 205244 output 2\n",
      "Step 7238: distortion 0.066562 num_query 205278 output 2\n",
      "Step 7239: distortion 0.066562 num_query 205312 output 2\n",
      "Step 7240: distortion 0.066562 num_query 205347 output 2\n",
      "Step 7241: distortion 0.066562 num_query 205385 output 2\n",
      "Step 7242: distortion 0.066562 num_query 205421 output 2\n",
      "Step 7243: distortion 0.066562 num_query 205461 output 2\n",
      "Step 7244: distortion 0.066562 num_query 205495 output 2\n",
      "Step 7245: distortion 0.066562 num_query 205531 output 2\n",
      "Step 7246: distortion 0.066562 num_query 205569 output 2\n",
      "Step 7247: distortion 0.066562 num_query 205608 output 2\n",
      "Step 7248: distortion 0.066562 num_query 205643 output 2\n",
      "Step 7249: distortion 0.066562 num_query 205681 output 2\n",
      "Step 7250: distortion 0.066562 num_query 205715 output 2\n",
      "Step 7251: distortion 0.066562 num_query 205751 output 2\n"
     ]
    },
    {
     "name": "stdout",
     "output_type": "stream",
     "text": [
      "Step 7252: distortion 0.066562 num_query 205784 output 2\n",
      "Step 7253: distortion 0.066562 num_query 205818 output 2\n",
      "Step 7254: distortion 0.066562 num_query 205851 output 2\n",
      "Step 7255: distortion 0.066562 num_query 205881 output 2\n",
      "Step 7256: distortion 0.066562 num_query 205915 output 2\n",
      "Step 7257: distortion 0.066562 num_query 205949 output 2\n",
      "Step 7258: distortion 0.066562 num_query 205987 output 2\n",
      "Step 7259: distortion 0.066562 num_query 206021 output 2\n",
      "Step 7260: distortion 0.066562 num_query 206051 output 2\n",
      "Step 7261: distortion 0.066562 num_query 206086 output 2\n",
      "Step 7262: distortion 0.066562 num_query 206124 output 2\n",
      "Step 7263: distortion 0.066562 num_query 206158 output 2\n",
      "Step 7264: distortion 0.066562 num_query 206198 output 2\n",
      "Step 7265: distortion 0.066562 num_query 206233 output 2\n",
      "Step 7266: distortion 0.066562 num_query 206272 output 2\n",
      "Step 7267: distortion 0.066562 num_query 206311 output 2\n",
      "Step 7268: distortion 0.066562 num_query 206345 output 2\n",
      "Step 7269: distortion 0.066562 num_query 206383 output 2\n",
      "Step 7270: distortion 0.066562 num_query 206420 output 2\n",
      "Step 7271: distortion 0.066562 num_query 206455 output 2\n",
      "Step 7272: distortion 0.066562 num_query 206490 output 2\n",
      "Step 7273: distortion 0.066562 num_query 206529 output 2\n",
      "Step 7274: distortion 0.066562 num_query 206569 output 2\n",
      "Step 7275: distortion 0.066562 num_query 206603 output 2\n",
      "Step 7276: distortion 0.066562 num_query 206645 output 2\n",
      "Step 7277: distortion 0.066562 num_query 206686 output 2\n",
      "Step 7278: distortion 0.066562 num_query 206722 output 2\n",
      "Step 7279: distortion 0.066562 num_query 206760 output 2\n",
      "Step 7280: distortion 0.066562 num_query 206794 output 2\n",
      "Step 7281: distortion 0.066562 num_query 206833 output 2\n",
      "Step 7282: distortion 0.066562 num_query 206868 output 2\n",
      "Step 7283: distortion 0.066562 num_query 206905 output 2\n",
      "Step 7284: distortion 0.066562 num_query 206941 output 2\n",
      "Step 7285: distortion 0.066562 num_query 206975 output 2\n",
      "Step 7286: distortion 0.066562 num_query 207012 output 2\n",
      "Step 7287: distortion 0.066562 num_query 207051 output 2\n",
      "Step 7288: distortion 0.066562 num_query 207086 output 2\n",
      "Step 7289: distortion 0.066562 num_query 207123 output 2\n",
      "Step 7290: distortion 0.066562 num_query 207163 output 2\n",
      "Step 7291: distortion 0.066562 num_query 207197 output 2\n",
      "Step 7292: distortion 0.066562 num_query 207238 output 2\n",
      "Step 7293: distortion 0.066562 num_query 207280 output 2\n",
      "Step 7294: distortion 0.066562 num_query 207324 output 2\n",
      "Step 7295: distortion 0.066562 num_query 207364 output 2\n",
      "Step 7296: distortion 0.066562 num_query 207404 output 2\n",
      "Step 7297: distortion 0.066562 num_query 207446 output 2\n",
      "Step 7298: distortion 0.066562 num_query 207488 output 2\n",
      "Step 7299: distortion 0.066562 num_query 207519 output 2\n",
      "Step 7300: distortion 0.066562 num_query 207553 output 2\n",
      "Step 7301: distortion 0.066562 num_query 207589 output 2\n",
      "Step 7302: distortion 0.066562 num_query 207629 output 2\n",
      "Step 7303: distortion 0.066562 num_query 207664 output 2\n",
      "Step 7304: distortion 0.066562 num_query 207701 output 2\n",
      "Step 7305: distortion 0.066562 num_query 207736 output 2\n",
      "Step 7306: distortion 0.066562 num_query 207770 output 2\n",
      "Step 7307: distortion 0.066562 num_query 207804 output 2\n",
      "Step 7308: distortion 0.066562 num_query 207838 output 2\n",
      "Step 7309: distortion 0.066562 num_query 207871 output 2\n",
      "Step 7310: distortion 0.066562 num_query 207905 output 2\n",
      "Step 7311: distortion 0.066562 num_query 207934 output 2\n",
      "Step 7312: distortion 0.066562 num_query 207966 output 2\n",
      "Step 7313: distortion 0.066562 num_query 207998 output 2\n",
      "Step 7314: distortion 0.066562 num_query 208032 output 2\n",
      "Step 7315: distortion 0.066562 num_query 208060 output 2\n",
      "Step 7316: distortion 0.066562 num_query 208087 output 2\n",
      "Step 7317: distortion 0.066562 num_query 208120 output 2\n",
      "Step 7318: distortion 0.066562 num_query 208149 output 2\n",
      "Step 7319: distortion 0.066562 num_query 208182 output 2\n",
      "Step 7320: distortion 0.066562 num_query 208214 output 2\n",
      "0.066561855 208215\n",
      "2\n",
      "6785\n",
      "run with verbose=True to see details\n",
      "Step 0: distortion 10.827558 num_query 557 output 8\n",
      "Step 1000: distortion 0.322012 num_query 31508 output 3 (took 0.03215 seconds)\n",
      "Step 2000: distortion 0.201185 num_query 60064 output 3 (took 0.02616 seconds)\n",
      "Step 3000: distortion 0.170983 num_query 88738 output 3 (took 0.01898 seconds)\n",
      "Step 4000: distortion 0.159688 num_query 117297 output 3 (took 0.02831 seconds)\n",
      "Step 5000: distortion 0.154331 num_query 145860 output 3 (took 0.03223 seconds)\n",
      "Step 6000: distortion 0.151725 num_query 174466 output 3 (took 0.02872 seconds)\n",
      "Step 7000: distortion 0.149985 num_query 203026 output 3 (took 0.04527 seconds)\n",
      "Step 8000: distortion 0.149025 num_query 231678 output 3 (took 0.02784 seconds)\n",
      "Step 9000: distortion 0.148507 num_query 260229 output 6 (took 0.03848 seconds)\n",
      "Step 10000: distortion 0.148119 num_query 288953 output 3 (took 0.03477 seconds)\n",
      "0.14811908 288954\n",
      "3\n",
      "7079\n",
      "run with verbose=True to see details\n",
      "Step 0: distortion 7.292762 num_query 352 output 9\n",
      "Step 1000: distortion 0.547656 num_query 31476 output 9 (took 0.02565 seconds)\n",
      "Step 2000: distortion 0.399022 num_query 60000 output 9 (took 0.01933 seconds)\n",
      "Step 3000: distortion 0.356372 num_query 88553 output 9 (took 0.02804 seconds)\n",
      "Step 4000: distortion 0.340111 num_query 117146 output 9 (took 0.01914 seconds)\n",
      "Step 5000: distortion 0.332627 num_query 145836 output 9 (took 0.02115 seconds)\n",
      "Step 6000: distortion 0.329047 num_query 174447 output 9 (took 0.02818 seconds)\n",
      "Step 7000: distortion 0.326704 num_query 203191 output 9 (took 0.02436 seconds)\n",
      "Step 8000: distortion 0.325328 num_query 231780 output 9 (took 0.03034 seconds)\n",
      "Step 9000: distortion 0.324770 num_query 260288 output 9 (took 0.01911 seconds)\n",
      "Step 10000: distortion 0.324421 num_query 288876 output 9 (took 0.03474 seconds)\n",
      "0.32442138 288877\n",
      "9\n",
      "2263\n",
      "run with verbose=True to see details\n",
      "Step 0: distortion 9.757453 num_query 511 output 8\n",
      "Step 1000: distortion 0.312637 num_query 29424 output 3 (took 0.01487 seconds)\n",
      "Step 2000: distortion 0.170241 num_query 58054 output 3 (took 0.01874 seconds)\n",
      "Step 3000: distortion 0.143912 num_query 86677 output 3 (took 0.02223 seconds)\n",
      "Step 4000: distortion 0.135235 num_query 115289 output 3 (took 0.03442 seconds)\n",
      "Step 5000: distortion 0.131012 num_query 143822 output 3 (took 0.03474 seconds)\n",
      "Step 6000: distortion 0.128745 num_query 172544 output 3 (took 0.03649 seconds)\n",
      "Step 7000: distortion 0.127617 num_query 201134 output 3 (took 0.02694 seconds)\n",
      "Step 8000: distortion 0.127130 num_query 229827 output 3 (took 0.02579 seconds)\n",
      "Step 9000: distortion 0.126883 num_query 258512 output 3 (took 0.03043 seconds)\n",
      "Step 10000: distortion 0.126646 num_query 287150 output 3 (took 0.01661 seconds)\n",
      "0.12664635 287151\n",
      "3\n",
      "0.14096478074789048 244974.6\n"
     ]
    }
   ],
   "source": [
    "#random.seed(0)\n",
    "avg_dis = 0\n",
    "avg_calls = 0\n",
    "num_imgs = 10\n",
    "#for _ in range(num_imgs):\n",
    "    #idx = random.randint(100, len(test_dataset)-1)\n",
    "    #print(idx)\n",
    "idx_a = [6411, 4360, 7753, 7413, 684, 3343, 6785, 7079, 2263]\n",
    "#idx_a = [4360]\n",
    "for idx in idx_a:\n",
    "    print(idx)\n",
    "    image, label = test_dataset[idx]\n",
    "    image = image.numpy()\n",
    "    #targets = list(range(10))\n",
    "    #targets.pop(label)\n",
    "    #target = random.choice(targets)\n",
    "#for i in range(50):101\n",
    "#    img, label2 = test_dataset[i]\n",
    "#    if label2 == 6:\n",
    "#        target = img.numpy()\n",
    "    adv = attack(image,label,iterations=10000,verbose=False, unpack=False, log_every_n_steps=1000)\n",
    "    dis = LA.norm(adv.image-image)\n",
    "    print(dis, adv._total_prediction_calls)\n",
    "    avg_dis += dis\n",
    "    avg_calls += adv._total_prediction_calls\n",
    "    print(np.argmax(fmodel.predictions(adv.image)))\n",
    "\n",
    "print(avg_dis/num_imgs, avg_calls/num_imgs)\n"
   ]
  },
  {
   "cell_type": "code",
   "execution_count": 20,
   "metadata": {
    "scrolled": false
   },
   "outputs": [
    {
     "name": "stdout",
     "output_type": "stream",
     "text": [
      "0.15557095110416413 206948.1\n"
     ]
    }
   ],
   "source": [
    "num_imgs=10\n",
    "print(avg_dis/num_imgs, avg_calls/10)"
   ]
  },
  {
   "cell_type": "code",
   "execution_count": 9,
   "metadata": {},
   "outputs": [
    {
     "name": "stdout",
     "output_type": "stream",
     "text": [
      "3\n"
     ]
    }
   ],
   "source": [
    "for i, (xi,yi) in enumerate(train_loader):\n",
    "    if i==1:\n",
    "        break\n",
    "    print(yi[9])\n",
    "    image_t= xi[9]\n",
    "image_t =image_t.numpy()"
   ]
  },
  {
   "cell_type": "code",
   "execution_count": 8,
   "metadata": {},
   "outputs": [
    {
     "ename": "NameError",
     "evalue": "name 'image_t' is not defined",
     "output_type": "error",
     "traceback": [
      "\u001b[0;31m---------------------------------------------------------------------------\u001b[0m",
      "\u001b[0;31mNameError\u001b[0m                                 Traceback (most recent call last)",
      "\u001b[0;32m<ipython-input-8-26547e9faec0>\u001b[0m in \u001b[0;36m<module>\u001b[0;34m()\u001b[0m\n\u001b[1;32m      2\u001b[0m \u001b[0mimage\u001b[0m\u001b[0;34m,\u001b[0m \u001b[0mlabel\u001b[0m \u001b[0;34m=\u001b[0m \u001b[0mtest_dataset\u001b[0m\u001b[0;34m[\u001b[0m\u001b[0midx\u001b[0m\u001b[0;34m]\u001b[0m\u001b[0;34m\u001b[0m\u001b[0m\n\u001b[1;32m      3\u001b[0m \u001b[0mimage\u001b[0m \u001b[0;34m=\u001b[0m \u001b[0mimage\u001b[0m\u001b[0;34m.\u001b[0m\u001b[0mnumpy\u001b[0m\u001b[0;34m(\u001b[0m\u001b[0;34m)\u001b[0m\u001b[0;34m\u001b[0m\u001b[0m\n\u001b[0;32m----> 4\u001b[0;31m \u001b[0madv\u001b[0m \u001b[0;34m=\u001b[0m \u001b[0mattack\u001b[0m\u001b[0;34m(\u001b[0m\u001b[0mimage\u001b[0m\u001b[0;34m,\u001b[0m\u001b[0mlabel\u001b[0m\u001b[0;34m,\u001b[0m\u001b[0miterations\u001b[0m\u001b[0;34m=\u001b[0m\u001b[0;36m30000\u001b[0m\u001b[0;34m,\u001b[0m\u001b[0mverbose\u001b[0m\u001b[0;34m=\u001b[0m\u001b[0;32mFalse\u001b[0m\u001b[0;34m,\u001b[0m \u001b[0munpack\u001b[0m\u001b[0;34m=\u001b[0m\u001b[0;32mFalse\u001b[0m\u001b[0;34m,\u001b[0m \u001b[0mlog_every_n_steps\u001b[0m\u001b[0;34m=\u001b[0m\u001b[0;36m1000\u001b[0m\u001b[0;34m,\u001b[0m \u001b[0mstarting_point\u001b[0m\u001b[0;34m=\u001b[0m\u001b[0mimage_t\u001b[0m\u001b[0;34m)\u001b[0m\u001b[0;34m\u001b[0m\u001b[0m\n\u001b[0m\u001b[1;32m      5\u001b[0m \u001b[0mdis\u001b[0m \u001b[0;34m=\u001b[0m \u001b[0mLA\u001b[0m\u001b[0;34m.\u001b[0m\u001b[0mnorm\u001b[0m\u001b[0;34m(\u001b[0m\u001b[0madv\u001b[0m\u001b[0;34m.\u001b[0m\u001b[0mimage\u001b[0m\u001b[0;34m-\u001b[0m\u001b[0mimage\u001b[0m\u001b[0;34m)\u001b[0m\u001b[0;34m\u001b[0m\u001b[0m\n\u001b[1;32m      6\u001b[0m \u001b[0mprint\u001b[0m\u001b[0;34m(\u001b[0m\u001b[0mdis\u001b[0m\u001b[0;34m)\u001b[0m\u001b[0;34m\u001b[0m\u001b[0m\n",
      "\u001b[0;31mNameError\u001b[0m: name 'image_t' is not defined"
     ]
    }
   ],
   "source": [
    "idx = 6411\n",
    "image, label = test_dataset[idx]\n",
    "image = image.numpy()\n",
    "adv = attack(image,label,iterations=30000,verbose=False, unpack=False, log_every_n_steps=1000, starting_point=image_t)\n",
    "dis = LA.norm(adv.image-image)\n",
    "print(dis)\n",
    "print(adv._total_prediction_calls)\n",
    "print(np.argmax(fmodel.predictions(adv.image)))"
   ]
  },
  {
   "cell_type": "code",
   "execution_count": 33,
   "metadata": {},
   "outputs": [
    {
     "data": {
      "text/plain": [
       "0.113342226"
      ]
     },
     "execution_count": 33,
     "metadata": {},
     "output_type": "execute_result"
    }
   ],
   "source": [
    "from numpy import linalg as LA\n",
    "LA.norm(adv.image-image)"
   ]
  },
  {
   "cell_type": "code",
   "execution_count": 11,
   "metadata": {},
   "outputs": [
    {
     "data": {
      "text/plain": [
       "243124"
      ]
     },
     "execution_count": 11,
     "metadata": {},
     "output_type": "execute_result"
    }
   ],
   "source": [
    "adv._total_prediction_calls"
   ]
  },
  {
   "cell_type": "code",
   "execution_count": 14,
   "metadata": {},
   "outputs": [
    {
     "name": "stdout",
     "output_type": "stream",
     "text": [
      "4\n"
     ]
    }
   ],
   "source": [
    "print(np.argmax(fmodel.predictions(adv.image)))"
   ]
  },
  {
   "cell_type": "code",
   "execution_count": null,
   "metadata": {
    "collapsed": true
   },
   "outputs": [],
   "source": []
  }
 ],
 "metadata": {
  "kernelspec": {
   "display_name": "Python 3",
   "language": "python",
   "name": "python3"
  },
  "language_info": {
   "codemirror_mode": {
    "name": "ipython",
    "version": 3
   },
   "file_extension": ".py",
   "mimetype": "text/x-python",
   "name": "python",
   "nbconvert_exporter": "python",
   "pygments_lexer": "ipython3",
   "version": "3.6.2"
  }
 },
 "nbformat": 4,
 "nbformat_minor": 2
}
